{
 "metadata": {
  "language_info": {
   "codemirror_mode": {
    "name": "ipython",
    "version": 3
   },
   "file_extension": ".py",
   "mimetype": "text/x-python",
   "name": "python",
   "nbconvert_exporter": "python",
   "pygments_lexer": "ipython3",
   "version": "3.8.4-candidate"
  },
  "orig_nbformat": 2,
  "kernelspec": {
   "name": "python_defaultSpec_1598188333638",
   "display_name": "Python 3.8.4 64-bit ('env': venv)"
  }
 },
 "nbformat": 4,
 "nbformat_minor": 2,
 "cells": [
  {
   "cell_type": "code",
   "execution_count": 1,
   "metadata": {},
   "outputs": [],
   "source": [
    "import os\n",
    "import cv2\n",
    "import numpy as np\n",
    "import matplotlib.pyplot as  plt\n",
    "from PIL import Image\n",
    "import math"
   ]
  },
  {
   "cell_type": "code",
   "execution_count": 2,
   "metadata": {},
   "outputs": [],
   "source": [
    "data_dir = \"../data/processed_data\"\n",
    "mask_path = [path for path in os.listdir(data_dir) if path.endswith(\".npy\")]"
   ]
  },
  {
   "cell_type": "code",
   "execution_count": 3,
   "metadata": {},
   "outputs": [],
   "source": [
    "mask = np.load(open(os.path.join(data_dir, mask_path[0]), \"rb\"))"
   ]
  },
  {
   "cell_type": "code",
   "execution_count": 4,
   "metadata": {},
   "outputs": [
    {
     "output_type": "display_data",
     "data": {
      "text/plain": "<Figure size 432x288 with 1 Axes>",
      "image/svg+xml": "<?xml version=\"1.0\" encoding=\"utf-8\" standalone=\"no\"?>\r\n<!DOCTYPE svg PUBLIC \"-//W3C//DTD SVG 1.1//EN\"\r\n  \"http://www.w3.org/Graphics/SVG/1.1/DTD/svg11.dtd\">\r\n<!-- Created with matplotlib (https://matplotlib.org/) -->\r\n<svg height=\"252.232406pt\" version=\"1.1\" viewBox=\"0 0 155.57 252.232406\" width=\"155.57pt\" xmlns=\"http://www.w3.org/2000/svg\" xmlns:xlink=\"http://www.w3.org/1999/xlink\">\r\n <metadata>\r\n  <rdf:RDF xmlns:cc=\"http://creativecommons.org/ns#\" xmlns:dc=\"http://purl.org/dc/elements/1.1/\" xmlns:rdf=\"http://www.w3.org/1999/02/22-rdf-syntax-ns#\">\r\n   <cc:Work>\r\n    <dc:type rdf:resource=\"http://purl.org/dc/dcmitype/StillImage\"/>\r\n    <dc:date>2020-08-22T21:37:16.135696</dc:date>\r\n    <dc:format>image/svg+xml</dc:format>\r\n    <dc:creator>\r\n     <cc:Agent>\r\n      <dc:title>Matplotlib v3.3.0, https://matplotlib.org/</dc:title>\r\n     </cc:Agent>\r\n    </dc:creator>\r\n   </cc:Work>\r\n  </rdf:RDF>\r\n </metadata>\r\n <defs>\r\n  <style type=\"text/css\">*{stroke-linecap:butt;stroke-linejoin:round;}</style>\r\n </defs>\r\n <g id=\"figure_1\">\r\n  <g id=\"patch_1\">\r\n   <path d=\"M 0 252.232406 \r\nL 155.57 252.232406 \r\nL 155.57 0 \r\nL 0 0 \r\nz\r\n\" style=\"fill:none;\"/>\r\n  </g>\r\n  <g id=\"axes_1\">\r\n   <g id=\"patch_2\">\r\n    <path d=\"M 39.65 228.354281 \r\nL 148.37 228.354281 \r\nL 148.37 10.914281 \r\nL 39.65 10.914281 \r\nz\r\n\" style=\"fill:#ffffff;\"/>\r\n   </g>\r\n   <g clip-path=\"url(#p6d83694648)\">\r\n    <image height=\"218\" id=\"image169e29a9b1\" transform=\"scale(1 -1)translate(0 -218)\" width=\"109\" x=\"39.65\" xlink:href=\"data:image/png;base64,\r\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\" y=\"-10.354281\"/>\r\n   </g>\r\n   <g id=\"matplotlib.axis_1\">\r\n    <g id=\"xtick_1\">\r\n     <g id=\"line2d_1\">\r\n      <defs>\r\n       <path d=\"M 0 0 \r\nL 0 3.5 \r\n\" id=\"m05e5b8d347\" style=\"stroke:#000000;stroke-width:0.8;\"/>\r\n      </defs>\r\n      <g>\r\n       <use style=\"stroke:#000000;stroke-width:0.8;\" x=\"39.734937\" xlink:href=\"#m05e5b8d347\" y=\"228.354281\"/>\r\n      </g>\r\n     </g>\r\n     <g id=\"text_1\">\r\n      <!-- 0 -->\r\n      <g transform=\"translate(36.553687 242.952719)scale(0.1 -0.1)\">\r\n       <defs>\r\n        <path d=\"M 31.78125 66.40625 \r\nQ 24.171875 66.40625 20.328125 58.90625 \r\nQ 16.5 51.421875 16.5 36.375 \r\nQ 16.5 21.390625 20.328125 13.890625 \r\nQ 24.171875 6.390625 31.78125 6.390625 \r\nQ 39.453125 6.390625 43.28125 13.890625 \r\nQ 47.125 21.390625 47.125 36.375 \r\nQ 47.125 51.421875 43.28125 58.90625 \r\nQ 39.453125 66.40625 31.78125 66.40625 \r\nz\r\nM 31.78125 74.21875 \r\nQ 44.046875 74.21875 50.515625 64.515625 \r\nQ 56.984375 54.828125 56.984375 36.375 \r\nQ 56.984375 17.96875 50.515625 8.265625 \r\nQ 44.046875 -1.421875 31.78125 -1.421875 \r\nQ 19.53125 -1.421875 13.0625 8.265625 \r\nQ 6.59375 17.96875 6.59375 36.375 \r\nQ 6.59375 54.828125 13.0625 64.515625 \r\nQ 19.53125 74.21875 31.78125 74.21875 \r\nz\r\n\" id=\"DejaVuSans-48\"/>\r\n       </defs>\r\n       <use xlink:href=\"#DejaVuSans-48\"/>\r\n      </g>\r\n     </g>\r\n    </g>\r\n    <g id=\"xtick_2\">\r\n     <g id=\"line2d_2\">\r\n      <g>\r\n       <use style=\"stroke:#000000;stroke-width:0.8;\" x=\"82.203688\" xlink:href=\"#m05e5b8d347\" y=\"228.354281\"/>\r\n      </g>\r\n     </g>\r\n     <g id=\"text_2\">\r\n      <!-- 250 -->\r\n      <g transform=\"translate(72.659937 242.952719)scale(0.1 -0.1)\">\r\n       <defs>\r\n        <path d=\"M 19.1875 8.296875 \r\nL 53.609375 8.296875 \r\nL 53.609375 0 \r\nL 7.328125 0 \r\nL 7.328125 8.296875 \r\nQ 12.9375 14.109375 22.625 23.890625 \r\nQ 32.328125 33.6875 34.8125 36.53125 \r\nQ 39.546875 41.84375 41.421875 45.53125 \r\nQ 43.3125 49.21875 43.3125 52.78125 \r\nQ 43.3125 58.59375 39.234375 62.25 \r\nQ 35.15625 65.921875 28.609375 65.921875 \r\nQ 23.96875 65.921875 18.8125 64.3125 \r\nQ 13.671875 62.703125 7.8125 59.421875 \r\nL 7.8125 69.390625 \r\nQ 13.765625 71.78125 18.9375 73 \r\nQ 24.125 74.21875 28.421875 74.21875 \r\nQ 39.75 74.21875 46.484375 68.546875 \r\nQ 53.21875 62.890625 53.21875 53.421875 \r\nQ 53.21875 48.921875 51.53125 44.890625 \r\nQ 49.859375 40.875 45.40625 35.40625 \r\nQ 44.1875 33.984375 37.640625 27.21875 \r\nQ 31.109375 20.453125 19.1875 8.296875 \r\nz\r\n\" id=\"DejaVuSans-50\"/>\r\n        <path d=\"M 10.796875 72.90625 \r\nL 49.515625 72.90625 \r\nL 49.515625 64.59375 \r\nL 19.828125 64.59375 \r\nL 19.828125 46.734375 \r\nQ 21.96875 47.46875 24.109375 47.828125 \r\nQ 26.265625 48.1875 28.421875 48.1875 \r\nQ 40.625 48.1875 47.75 41.5 \r\nQ 54.890625 34.8125 54.890625 23.390625 \r\nQ 54.890625 11.625 47.5625 5.09375 \r\nQ 40.234375 -1.421875 26.90625 -1.421875 \r\nQ 22.3125 -1.421875 17.546875 -0.640625 \r\nQ 12.796875 0.140625 7.71875 1.703125 \r\nL 7.71875 11.625 \r\nQ 12.109375 9.234375 16.796875 8.0625 \r\nQ 21.484375 6.890625 26.703125 6.890625 \r\nQ 35.15625 6.890625 40.078125 11.328125 \r\nQ 45.015625 15.765625 45.015625 23.390625 \r\nQ 45.015625 31 40.078125 35.4375 \r\nQ 35.15625 39.890625 26.703125 39.890625 \r\nQ 22.75 39.890625 18.8125 39.015625 \r\nQ 14.890625 38.140625 10.796875 36.28125 \r\nz\r\n\" id=\"DejaVuSans-53\"/>\r\n       </defs>\r\n       <use xlink:href=\"#DejaVuSans-50\"/>\r\n       <use x=\"63.623047\" xlink:href=\"#DejaVuSans-53\"/>\r\n       <use x=\"127.246094\" xlink:href=\"#DejaVuSans-48\"/>\r\n      </g>\r\n     </g>\r\n    </g>\r\n    <g id=\"xtick_3\">\r\n     <g id=\"line2d_3\">\r\n      <g>\r\n       <use style=\"stroke:#000000;stroke-width:0.8;\" x=\"124.672438\" xlink:href=\"#m05e5b8d347\" y=\"228.354281\"/>\r\n      </g>\r\n     </g>\r\n     <g id=\"text_3\">\r\n      <!-- 500 -->\r\n      <g transform=\"translate(115.128687 242.952719)scale(0.1 -0.1)\">\r\n       <use xlink:href=\"#DejaVuSans-53\"/>\r\n       <use x=\"63.623047\" xlink:href=\"#DejaVuSans-48\"/>\r\n       <use x=\"127.246094\" xlink:href=\"#DejaVuSans-48\"/>\r\n      </g>\r\n     </g>\r\n    </g>\r\n   </g>\r\n   <g id=\"matplotlib.axis_2\">\r\n    <g id=\"ytick_1\">\r\n     <g id=\"line2d_4\">\r\n      <defs>\r\n       <path d=\"M 0 0 \r\nL -3.5 0 \r\n\" id=\"m3eaf339668\" style=\"stroke:#000000;stroke-width:0.8;\"/>\r\n      </defs>\r\n      <g>\r\n       <use style=\"stroke:#000000;stroke-width:0.8;\" x=\"39.65\" xlink:href=\"#m3eaf339668\" y=\"10.999219\"/>\r\n      </g>\r\n     </g>\r\n     <g id=\"text_4\">\r\n      <!-- 0 -->\r\n      <g transform=\"translate(26.2875 14.798437)scale(0.1 -0.1)\">\r\n       <use xlink:href=\"#DejaVuSans-48\"/>\r\n      </g>\r\n     </g>\r\n    </g>\r\n    <g id=\"ytick_2\">\r\n     <g id=\"line2d_5\">\r\n      <g>\r\n       <use style=\"stroke:#000000;stroke-width:0.8;\" x=\"39.65\" xlink:href=\"#m3eaf339668\" y=\"44.974219\"/>\r\n      </g>\r\n     </g>\r\n     <g id=\"text_5\">\r\n      <!-- 200 -->\r\n      <g transform=\"translate(13.5625 48.773437)scale(0.1 -0.1)\">\r\n       <use xlink:href=\"#DejaVuSans-50\"/>\r\n       <use x=\"63.623047\" xlink:href=\"#DejaVuSans-48\"/>\r\n       <use x=\"127.246094\" xlink:href=\"#DejaVuSans-48\"/>\r\n      </g>\r\n     </g>\r\n    </g>\r\n    <g id=\"ytick_3\">\r\n     <g id=\"line2d_6\">\r\n      <g>\r\n       <use style=\"stroke:#000000;stroke-width:0.8;\" x=\"39.65\" xlink:href=\"#m3eaf339668\" y=\"78.949219\"/>\r\n      </g>\r\n     </g>\r\n     <g id=\"text_6\">\r\n      <!-- 400 -->\r\n      <g transform=\"translate(13.5625 82.748437)scale(0.1 -0.1)\">\r\n       <defs>\r\n        <path d=\"M 37.796875 64.3125 \r\nL 12.890625 25.390625 \r\nL 37.796875 25.390625 \r\nz\r\nM 35.203125 72.90625 \r\nL 47.609375 72.90625 \r\nL 47.609375 25.390625 \r\nL 58.015625 25.390625 \r\nL 58.015625 17.1875 \r\nL 47.609375 17.1875 \r\nL 47.609375 0 \r\nL 37.796875 0 \r\nL 37.796875 17.1875 \r\nL 4.890625 17.1875 \r\nL 4.890625 26.703125 \r\nz\r\n\" id=\"DejaVuSans-52\"/>\r\n       </defs>\r\n       <use xlink:href=\"#DejaVuSans-52\"/>\r\n       <use x=\"63.623047\" xlink:href=\"#DejaVuSans-48\"/>\r\n       <use x=\"127.246094\" xlink:href=\"#DejaVuSans-48\"/>\r\n      </g>\r\n     </g>\r\n    </g>\r\n    <g id=\"ytick_4\">\r\n     <g id=\"line2d_7\">\r\n      <g>\r\n       <use style=\"stroke:#000000;stroke-width:0.8;\" x=\"39.65\" xlink:href=\"#m3eaf339668\" y=\"112.924219\"/>\r\n      </g>\r\n     </g>\r\n     <g id=\"text_7\">\r\n      <!-- 600 -->\r\n      <g transform=\"translate(13.5625 116.723437)scale(0.1 -0.1)\">\r\n       <defs>\r\n        <path d=\"M 33.015625 40.375 \r\nQ 26.375 40.375 22.484375 35.828125 \r\nQ 18.609375 31.296875 18.609375 23.390625 \r\nQ 18.609375 15.53125 22.484375 10.953125 \r\nQ 26.375 6.390625 33.015625 6.390625 \r\nQ 39.65625 6.390625 43.53125 10.953125 \r\nQ 47.40625 15.53125 47.40625 23.390625 \r\nQ 47.40625 31.296875 43.53125 35.828125 \r\nQ 39.65625 40.375 33.015625 40.375 \r\nz\r\nM 52.59375 71.296875 \r\nL 52.59375 62.3125 \r\nQ 48.875 64.0625 45.09375 64.984375 \r\nQ 41.3125 65.921875 37.59375 65.921875 \r\nQ 27.828125 65.921875 22.671875 59.328125 \r\nQ 17.53125 52.734375 16.796875 39.40625 \r\nQ 19.671875 43.65625 24.015625 45.921875 \r\nQ 28.375 48.1875 33.59375 48.1875 \r\nQ 44.578125 48.1875 50.953125 41.515625 \r\nQ 57.328125 34.859375 57.328125 23.390625 \r\nQ 57.328125 12.15625 50.6875 5.359375 \r\nQ 44.046875 -1.421875 33.015625 -1.421875 \r\nQ 20.359375 -1.421875 13.671875 8.265625 \r\nQ 6.984375 17.96875 6.984375 36.375 \r\nQ 6.984375 53.65625 15.1875 63.9375 \r\nQ 23.390625 74.21875 37.203125 74.21875 \r\nQ 40.921875 74.21875 44.703125 73.484375 \r\nQ 48.484375 72.75 52.59375 71.296875 \r\nz\r\n\" id=\"DejaVuSans-54\"/>\r\n       </defs>\r\n       <use xlink:href=\"#DejaVuSans-54\"/>\r\n       <use x=\"63.623047\" xlink:href=\"#DejaVuSans-48\"/>\r\n       <use x=\"127.246094\" xlink:href=\"#DejaVuSans-48\"/>\r\n      </g>\r\n     </g>\r\n    </g>\r\n    <g id=\"ytick_5\">\r\n     <g id=\"line2d_8\">\r\n      <g>\r\n       <use style=\"stroke:#000000;stroke-width:0.8;\" x=\"39.65\" xlink:href=\"#m3eaf339668\" y=\"146.899219\"/>\r\n      </g>\r\n     </g>\r\n     <g id=\"text_8\">\r\n      <!-- 800 -->\r\n      <g transform=\"translate(13.5625 150.698437)scale(0.1 -0.1)\">\r\n       <defs>\r\n        <path d=\"M 31.78125 34.625 \r\nQ 24.75 34.625 20.71875 30.859375 \r\nQ 16.703125 27.09375 16.703125 20.515625 \r\nQ 16.703125 13.921875 20.71875 10.15625 \r\nQ 24.75 6.390625 31.78125 6.390625 \r\nQ 38.8125 6.390625 42.859375 10.171875 \r\nQ 46.921875 13.96875 46.921875 20.515625 \r\nQ 46.921875 27.09375 42.890625 30.859375 \r\nQ 38.875 34.625 31.78125 34.625 \r\nz\r\nM 21.921875 38.8125 \r\nQ 15.578125 40.375 12.03125 44.71875 \r\nQ 8.5 49.078125 8.5 55.328125 \r\nQ 8.5 64.0625 14.71875 69.140625 \r\nQ 20.953125 74.21875 31.78125 74.21875 \r\nQ 42.671875 74.21875 48.875 69.140625 \r\nQ 55.078125 64.0625 55.078125 55.328125 \r\nQ 55.078125 49.078125 51.53125 44.71875 \r\nQ 48 40.375 41.703125 38.8125 \r\nQ 48.828125 37.15625 52.796875 32.3125 \r\nQ 56.78125 27.484375 56.78125 20.515625 \r\nQ 56.78125 9.90625 50.3125 4.234375 \r\nQ 43.84375 -1.421875 31.78125 -1.421875 \r\nQ 19.734375 -1.421875 13.25 4.234375 \r\nQ 6.78125 9.90625 6.78125 20.515625 \r\nQ 6.78125 27.484375 10.78125 32.3125 \r\nQ 14.796875 37.15625 21.921875 38.8125 \r\nz\r\nM 18.3125 54.390625 \r\nQ 18.3125 48.734375 21.84375 45.5625 \r\nQ 25.390625 42.390625 31.78125 42.390625 \r\nQ 38.140625 42.390625 41.71875 45.5625 \r\nQ 45.3125 48.734375 45.3125 54.390625 \r\nQ 45.3125 60.0625 41.71875 63.234375 \r\nQ 38.140625 66.40625 31.78125 66.40625 \r\nQ 25.390625 66.40625 21.84375 63.234375 \r\nQ 18.3125 60.0625 18.3125 54.390625 \r\nz\r\n\" id=\"DejaVuSans-56\"/>\r\n       </defs>\r\n       <use xlink:href=\"#DejaVuSans-56\"/>\r\n       <use x=\"63.623047\" xlink:href=\"#DejaVuSans-48\"/>\r\n       <use x=\"127.246094\" xlink:href=\"#DejaVuSans-48\"/>\r\n      </g>\r\n     </g>\r\n    </g>\r\n    <g id=\"ytick_6\">\r\n     <g id=\"line2d_9\">\r\n      <g>\r\n       <use style=\"stroke:#000000;stroke-width:0.8;\" x=\"39.65\" xlink:href=\"#m3eaf339668\" y=\"180.874219\"/>\r\n      </g>\r\n     </g>\r\n     <g id=\"text_9\">\r\n      <!-- 1000 -->\r\n      <g transform=\"translate(7.2 184.673437)scale(0.1 -0.1)\">\r\n       <defs>\r\n        <path d=\"M 12.40625 8.296875 \r\nL 28.515625 8.296875 \r\nL 28.515625 63.921875 \r\nL 10.984375 60.40625 \r\nL 10.984375 69.390625 \r\nL 28.421875 72.90625 \r\nL 38.28125 72.90625 \r\nL 38.28125 8.296875 \r\nL 54.390625 8.296875 \r\nL 54.390625 0 \r\nL 12.40625 0 \r\nz\r\n\" id=\"DejaVuSans-49\"/>\r\n       </defs>\r\n       <use xlink:href=\"#DejaVuSans-49\"/>\r\n       <use x=\"63.623047\" xlink:href=\"#DejaVuSans-48\"/>\r\n       <use x=\"127.246094\" xlink:href=\"#DejaVuSans-48\"/>\r\n       <use x=\"190.869141\" xlink:href=\"#DejaVuSans-48\"/>\r\n      </g>\r\n     </g>\r\n    </g>\r\n    <g id=\"ytick_7\">\r\n     <g id=\"line2d_10\">\r\n      <g>\r\n       <use style=\"stroke:#000000;stroke-width:0.8;\" x=\"39.65\" xlink:href=\"#m3eaf339668\" y=\"214.849219\"/>\r\n      </g>\r\n     </g>\r\n     <g id=\"text_10\">\r\n      <!-- 1200 -->\r\n      <g transform=\"translate(7.2 218.648437)scale(0.1 -0.1)\">\r\n       <use xlink:href=\"#DejaVuSans-49\"/>\r\n       <use x=\"63.623047\" xlink:href=\"#DejaVuSans-50\"/>\r\n       <use x=\"127.246094\" xlink:href=\"#DejaVuSans-48\"/>\r\n       <use x=\"190.869141\" xlink:href=\"#DejaVuSans-48\"/>\r\n      </g>\r\n     </g>\r\n    </g>\r\n   </g>\r\n   <g id=\"patch_3\">\r\n    <path d=\"M 39.65 228.354281 \r\nL 39.65 10.914281 \r\n\" style=\"fill:none;stroke:#000000;stroke-linecap:square;stroke-linejoin:miter;stroke-width:0.8;\"/>\r\n   </g>\r\n   <g id=\"patch_4\">\r\n    <path d=\"M 148.37 228.354281 \r\nL 148.37 10.914281 \r\n\" style=\"fill:none;stroke:#000000;stroke-linecap:square;stroke-linejoin:miter;stroke-width:0.8;\"/>\r\n   </g>\r\n   <g id=\"patch_5\">\r\n    <path d=\"M 39.65 228.354281 \r\nL 148.37 228.354281 \r\n\" style=\"fill:none;stroke:#000000;stroke-linecap:square;stroke-linejoin:miter;stroke-width:0.8;\"/>\r\n   </g>\r\n   <g id=\"patch_6\">\r\n    <path d=\"M 39.65 10.914281 \r\nL 148.37 10.914281 \r\n\" style=\"fill:none;stroke:#000000;stroke-linecap:square;stroke-linejoin:miter;stroke-width:0.8;\"/>\r\n   </g>\r\n  </g>\r\n </g>\r\n <defs>\r\n  <clipPath id=\"p6d83694648\">\r\n   <rect height=\"217.44\" width=\"108.72\" x=\"39.65\" y=\"10.914281\"/>\r\n  </clipPath>\r\n </defs>\r\n</svg>\r\n",
      "image/png": "[encoded data removed]"
     },
     "metadata": {
      "needs_background": "light"
     }
    }
   ],
   "source": [
    "for i in range(len(mask)):\n",
    "    plt.imshow(mask[i])\n",
    "    break\n"
   ]
  },
  {
   "cell_type": "code",
   "execution_count": null,
   "metadata": {},
   "outputs": [],
   "source": [
    "#mask sequence\n",
    "score, left, top, right, bottom, orientation = np.split(mask, 6)"
   ]
  },
  {
   "cell_type": "code",
   "execution_count": null,
   "metadata": {},
   "outputs": [],
   "source": [
    "area = (left + top)*(right+bottom)"
   ]
  },
  {
   "cell_type": "code",
   "execution_count": null,
   "metadata": {},
   "outputs": [],
   "source": [
    "plt.imshow(area.squeeze(0))"
   ]
  },
  {
   "cell_type": "code",
   "execution_count": 40,
   "metadata": {},
   "outputs": [],
   "source": [
    "#pytorch implementation of EAST data validation\n",
    "\n",
    "image_data_dir = \"../data/images\"\n",
    "label_data_dir = \"../data/labels\"\n",
    "\n",
    "img = Image.open(os.path.join(image_data_dir, os.listdir(image_data_dir)[0]))\n",
    "label = open(os.path.join(label_data_dor, os.listdir(label_data_dir)[0])).readlines()"
   ]
  },
  {
   "cell_type": "code",
   "execution_count": 44,
   "metadata": {},
   "outputs": [],
   "source": [
    "def extract_vertices(lines):\n",
    "\t'''extract vertices info from txt lines\n",
    "\tInput:\n",
    "\t\tlines   : list of string info\n",
    "\tOutput:\n",
    "\t\tvertices: vertices of text regions <numpy.ndarray, (n,8)>\n",
    "\t\tlabels  : 1->valid, 0->ignore, <numpy.ndarray, (n,)>\n",
    "\t'''\n",
    "\tlabels = []\n",
    "\tvertices = []\n",
    "\tfor line in lines:\n",
    "\t\tvertices.append(list(map(int,line.rstrip('\\n').lstrip('\\ufeff').split(',')[:8])))\n",
    "\t\tlabel = 0 if '###' in line else 1\n",
    "\t\tlabels.append(label)\n",
    "\treturn np.array(vertices), np.array(labels)"
   ]
  },
  {
   "cell_type": "code",
   "execution_count": 46,
   "metadata": {},
   "outputs": [],
   "source": [
    "vertices, labels = extract_vertices(label)"
   ]
  },
  {
   "cell_type": "code",
   "execution_count": 47,
   "metadata": {},
   "outputs": [],
   "source": [
    "scale=0.25 \n",
    "length=512"
   ]
  },
  {
   "cell_type": "code",
   "execution_count": 79,
   "metadata": {},
   "outputs": [
    {
     "output_type": "execute_result",
     "data": {
      "text/plain": "45796"
     },
     "metadata": {},
     "execution_count": 79
    }
   ],
   "source": [
    "214*214"
   ]
  },
  {
   "cell_type": "code",
   "execution_count": 15,
   "metadata": {},
   "outputs": [
    {
     "output_type": "execute_result",
     "data": {
      "text/plain": "(1, 1280, 640)"
     },
     "metadata": {},
     "execution_count": 15
    }
   ],
   "source": [
    "score.shape"
   ]
  },
  {
   "cell_type": "code",
   "execution_count": 16,
   "metadata": {},
   "outputs": [],
   "source": [
    "y_index = np.arange(0, 1280, int(1/0.25))\n",
    "x_index = np.arange(0, 640, int(1/0.25))"
   ]
  },
  {
   "cell_type": "code",
   "execution_count": 23,
   "metadata": {},
   "outputs": [],
   "source": [
    "x, y = np.meshgrid(y_index, x_index)"
   ]
  },
  {
   "cell_type": "code",
   "execution_count": 33,
   "metadata": {},
   "outputs": [
    {
     "output_type": "execute_result",
     "data": {
      "text/plain": "array([[   0,    4,    8, ..., 1268, 1272, 1276],\n       [   0,    4,    8, ..., 1268, 1272, 1276],\n       [   0,    4,    8, ..., 1268, 1272, 1276],\n       ...,\n       [   0,    4,    8, ..., 1268, 1272, 1276],\n       [   0,    4,    8, ..., 1268, 1272, 1276],\n       [   0,    4,    8, ..., 1268, 1272, 1276]])"
     },
     "metadata": {},
     "execution_count": 33
    }
   ],
   "source": []
  },
  {
   "cell_type": "code",
   "execution_count": null,
   "metadata": {},
   "outputs": [],
   "source": []
  }
 ]
}